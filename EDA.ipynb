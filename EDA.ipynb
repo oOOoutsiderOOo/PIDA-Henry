{
 "cells": [
  {
   "cell_type": "code",
   "execution_count": 32,
   "metadata": {},
   "outputs": [],
   "source": [
    "import pandas as pd\n",
    "import numpy as np\n",
    "import seaborn as sns\n",
    "import matplotlib.pyplot as plt"
   ]
  },
  {
   "cell_type": "markdown",
   "metadata": {},
   "source": [
    "## Leemos el dataset y configuramos los tipos de dato de cada columna"
   ]
  },
  {
   "cell_type": "code",
   "execution_count": 7,
   "metadata": {},
   "outputs": [],
   "source": [
    "df = pd.read_csv('./src/AccidentesAvionesLimpio.csv')\n",
    "\n",
    "df['Fecha'] = pd.to_datetime(df['Fecha'], errors='coerce')\n",
    "df[['Ubicación', 'Operador', 'Ruta', 'Tipo de aeronave', 'Resumen']] = df[['Ubicación', 'Operador', 'Ruta', 'Tipo de aeronave', 'Resumen']].astype('string')\n",
    "df[['Total a bordo', 'Pasajeros a bordo', 'Tripulación a bordo','Total fallecidos', 'Fallecidos pasajeros ', 'Fallecidos tripulación','Fallecidos en tierra']]\\\n",
    "    = df[['Total a bordo', 'Pasajeros a bordo', 'Tripulación a bordo','Total fallecidos', 'Fallecidos pasajeros ', 'Fallecidos tripulación','Fallecidos en tierra']].astype('Int64')"
   ]
  },
  {
   "cell_type": "code",
   "execution_count": 20,
   "metadata": {},
   "outputs": [],
   "source": [
    "df['Resumen'].fillna('', inplace=True)"
   ]
  }
 ],
 "metadata": {
  "kernelspec": {
   "display_name": "Python 3",
   "language": "python",
   "name": "python3"
  },
  "language_info": {
   "codemirror_mode": {
    "name": "ipython",
    "version": 3
   },
   "file_extension": ".py",
   "mimetype": "text/x-python",
   "name": "python",
   "nbconvert_exporter": "python",
   "pygments_lexer": "ipython3",
   "version": "3.11.4"
  },
  "orig_nbformat": 4
 },
 "nbformat": 4,
 "nbformat_minor": 2
}
